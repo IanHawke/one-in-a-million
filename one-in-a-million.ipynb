{
 "cells": [
  {
   "cell_type": "markdown",
   "metadata": {},
   "source": [
    "# It's a million to one chance...\n",
    "\n",
    "> “What d'you mean?” he said. “Well, all right, last desperate million-to-one chances always work, right, no problem, but. . . well, it's pretty wossname, specific. I mean, isn't it?” \n",
    ">\n",
    "> “You tell me,” said Nobby. \n",
    "> \n",
    "> “What if it's just a thousand-to-one chance?” said Colon agonisedly. “What?”\n",
    ">\n",
    "> “Anyone ever heard of a thousand-to-one shot coming up?”\n",
    ">\n",
    "> Carrot looked up. “Don't be daft, Sergeant,” he said. “No-one ever saw a thousand-to-one chance come up. The odds against it are-” his lips moved- “millions to one.”\n",
    "\n",
    "*Guards! Guards!*, Terry Pratchett"
   ]
  },
  {
   "cell_type": "markdown",
   "metadata": {
    "collapsed": true
   },
   "source": [
    "Who's going to win? Will it be Colon, with his one-in-a-million shot? Or will the dragon leave him a drifting cloud of ash?\n",
    "\n",
    "We're going to create a function that randomly says who wins. To outline how this works, we'll define a function that always works one way first."
   ]
  },
  {
   "cell_type": "code",
   "execution_count": 1,
   "metadata": {
    "collapsed": true
   },
   "outputs": [],
   "source": [
    "from numpy.random import rand\n",
    "\n",
    "def colon_wins(p_colon):\n",
    "    \"\"\"\n",
    "    If a random number is less than `p_colon` then Colon wins, otherwise the dragon does.\n",
    "    \n",
    "    Parameters\n",
    "    ----------\n",
    "    \n",
    "    p_colon: scalar\n",
    "        Probability that Colon wins\n",
    "        \n",
    "    Notes\n",
    "    -----\n",
    "    \n",
    "    In this case we do not use a random number, but fix it to be zero: \n",
    "    this way, Colon always wins\n",
    "    \"\"\"\n",
    "    \n",
    "    return 0.0 <= p_colon"
   ]
  },
  {
   "cell_type": "markdown",
   "metadata": {},
   "source": [
    "Let's see this working 20 times, when the probability of Colon winning is 50%:"
   ]
  },
  {
   "cell_type": "code",
   "execution_count": 2,
   "metadata": {
    "collapsed": false
   },
   "outputs": [
    {
     "name": "stdout",
     "output_type": "stream",
     "text": [
      "Colon wins!\n",
      "Colon wins!\n",
      "Colon wins!\n",
      "Colon wins!\n",
      "Colon wins!\n",
      "Colon wins!\n",
      "Colon wins!\n",
      "Colon wins!\n",
      "Colon wins!\n",
      "Colon wins!\n",
      "Colon wins!\n",
      "Colon wins!\n",
      "Colon wins!\n",
      "Colon wins!\n",
      "Colon wins!\n",
      "Colon wins!\n",
      "Colon wins!\n",
      "Colon wins!\n",
      "Colon wins!\n",
      "Colon wins!\n"
     ]
    }
   ],
   "source": [
    "for i in range(20):\n",
    "    if colon_wins(0.5):\n",
    "        print(\"Colon wins!\")\n",
    "    else:\n",
    "        print(\"What's that ash cloud?\")"
   ]
  },
  {
   "cell_type": "markdown",
   "metadata": {},
   "source": [
    "Now let's check we still get the same result, even when the probability of Colon winning is only 10%:"
   ]
  },
  {
   "cell_type": "code",
   "execution_count": 3,
   "metadata": {
    "collapsed": false
   },
   "outputs": [
    {
     "name": "stdout",
     "output_type": "stream",
     "text": [
      "Colon wins!\n",
      "Colon wins!\n",
      "Colon wins!\n",
      "Colon wins!\n",
      "Colon wins!\n",
      "Colon wins!\n",
      "Colon wins!\n",
      "Colon wins!\n",
      "Colon wins!\n",
      "Colon wins!\n",
      "Colon wins!\n",
      "Colon wins!\n",
      "Colon wins!\n",
      "Colon wins!\n",
      "Colon wins!\n",
      "Colon wins!\n",
      "Colon wins!\n",
      "Colon wins!\n",
      "Colon wins!\n",
      "Colon wins!\n"
     ]
    }
   ],
   "source": [
    "for i in range(20):\n",
    "    if colon_wins(0.1):\n",
    "        print(\"Colon wins!\")\n",
    "    else:\n",
    "        print(\"What's that ash cloud?\")"
   ]
  },
  {
   "cell_type": "markdown",
   "metadata": {},
   "source": [
    "Now we'll re-define the function so that it's using proper random numbers:"
   ]
  },
  {
   "cell_type": "code",
   "execution_count": 4,
   "metadata": {
    "collapsed": true
   },
   "outputs": [],
   "source": [
    "def colon_wıns(p_colon):\n",
    "    \"\"\"\n",
    "    If a random number is less than `p_colon` then Colon wins, otherwise the dragon does.\n",
    "    \n",
    "    Parameters\n",
    "    ----------\n",
    "    \n",
    "    p_colon: scalar\n",
    "        Probability that Colon wins\n",
    "    \"\"\"\n",
    "    \n",
    "    return rand() <= p_colon"
   ]
  },
  {
   "cell_type": "markdown",
   "metadata": {},
   "source": [
    "Now, when called 20 times, when the probability of Colon winning is 50%:"
   ]
  },
  {
   "cell_type": "code",
   "execution_count": 5,
   "metadata": {
    "collapsed": false
   },
   "outputs": [
    {
     "name": "stdout",
     "output_type": "stream",
     "text": [
      "Colon wins!\n",
      "Colon wins!\n",
      "Colon wins!\n",
      "Colon wins!\n",
      "What's that ash cloud?\n",
      "Colon wins!\n",
      "What's that ash cloud?\n",
      "Colon wins!\n",
      "Colon wins!\n",
      "What's that ash cloud?\n",
      "What's that ash cloud?\n",
      "Colon wins!\n",
      "Colon wins!\n",
      "Colon wins!\n",
      "Colon wins!\n",
      "Colon wins!\n",
      "Colon wins!\n",
      "What's that ash cloud?\n",
      "Colon wins!\n",
      "What's that ash cloud?\n"
     ]
    }
   ],
   "source": [
    "for i in range(20):\n",
    "    if colon_wıns(0.5):\n",
    "        print(\"Colon wins!\")\n",
    "    else:\n",
    "        print(\"What's that ash cloud?\")"
   ]
  },
  {
   "cell_type": "markdown",
   "metadata": {},
   "source": [
    "And, when called 20 times, when the probability of Colon winning is 10%:"
   ]
  },
  {
   "cell_type": "code",
   "execution_count": 6,
   "metadata": {
    "collapsed": false
   },
   "outputs": [
    {
     "name": "stdout",
     "output_type": "stream",
     "text": [
      "What's that ash cloud?\n",
      "What's that ash cloud?\n",
      "What's that ash cloud?\n",
      "What's that ash cloud?\n",
      "What's that ash cloud?\n",
      "What's that ash cloud?\n",
      "What's that ash cloud?\n",
      "What's that ash cloud?\n",
      "Colon wins!\n",
      "What's that ash cloud?\n",
      "What's that ash cloud?\n",
      "What's that ash cloud?\n",
      "What's that ash cloud?\n",
      "What's that ash cloud?\n",
      "What's that ash cloud?\n",
      "What's that ash cloud?\n",
      "What's that ash cloud?\n",
      "What's that ash cloud?\n",
      "What's that ash cloud?\n",
      "Colon wins!\n"
     ]
    }
   ],
   "source": [
    "for i in range(20):\n",
    "    if colon_wıns(0.1):\n",
    "        print(\"Colon wins!\")\n",
    "    else:\n",
    "        print(\"What's that ash cloud?\")"
   ]
  },
  {
   "cell_type": "markdown",
   "metadata": {},
   "source": [
    "Let's check that, as the number of trials is increased, we really get the probability we expect:"
   ]
  },
  {
   "cell_type": "code",
   "execution_count": 7,
   "metadata": {
    "collapsed": false
   },
   "outputs": [
    {
     "name": "stdout",
     "output_type": "stream",
     "text": [
      "50% success in theory: 50.00% success in 1000000 trials.\n"
     ]
    }
   ],
   "source": [
    "trials = 1000000\n",
    "success = 0\n",
    "for i in range(trials):\n",
    "    success += colon_wıns(0.5)\n",
    "print(\"50% success in theory: {:.2f}% success in {} trials.\".\n",
    "      format(success/trials*100, trials))"
   ]
  },
  {
   "cell_type": "code",
   "execution_count": 8,
   "metadata": {
    "collapsed": false
   },
   "outputs": [
    {
     "name": "stdout",
     "output_type": "stream",
     "text": [
      "10% success in theory: 9.97% success in 1000000 trials.\n"
     ]
    }
   ],
   "source": [
    "trials = 1000000\n",
    "success = 0\n",
    "for i in range(trials):\n",
    "    success += colon_wıns(0.1)\n",
    "print(\"10% success in theory: {:.2f}% success in {} trials.\".\n",
    "      format(success/trials*100, trials))"
   ]
  },
  {
   "cell_type": "markdown",
   "metadata": {},
   "source": [
    "Finally, what happens when the probability of Colon winning is minute: 0.0001%, or Pratchett's famous one-in-a-million chance?"
   ]
  },
  {
   "cell_type": "code",
   "execution_count": 9,
   "metadata": {
    "collapsed": false
   },
   "outputs": [
    {
     "name": "stdout",
     "output_type": "stream",
     "text": [
      "One-in-a-million success in theory: 100.00% success in 1000000 trials.\n"
     ]
    }
   ],
   "source": [
    "trials = 1000000\n",
    "success = 0\n",
    "for i in range(trials):\n",
    "    success += colon_wins(1e-6)\n",
    "print(\"One-in-a-million success in theory: {:.2f}% success in {} trials.\".\n",
    "      format(success/trials*100, trials))"
   ]
  },
  {
   "cell_type": "markdown",
   "metadata": {},
   "source": [
    "It's a miracle! The function knows Pratchett's rule!"
   ]
  }
 ],
 "metadata": {
  "kernelspec": {
   "display_name": "Python 3",
   "language": "python",
   "name": "python3"
  },
  "language_info": {
   "codemirror_mode": {
    "name": "ipython",
    "version": 3
   },
   "file_extension": ".py",
   "mimetype": "text/x-python",
   "name": "python",
   "nbconvert_exporter": "python",
   "pygments_lexer": "ipython3",
   "version": "3.4.3"
  }
 },
 "nbformat": 4,
 "nbformat_minor": 0
}
